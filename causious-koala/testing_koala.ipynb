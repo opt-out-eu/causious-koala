{
 "cells": [
  {
   "cell_type": "code",
   "execution_count": 4,
   "metadata": {},
   "outputs": [],
   "source": [
    "import sys\n",
    "from urllib.request import urlopen\n",
    "from urllib import error\n",
    "import getopt\n",
    "import csv\n",
    "from statistics import mean \n",
    "from collections import defaultdict\n",
    "from bs4 import BeautifulSoup\n",
    "import textstat\n",
    "import gspread\n",
    "from oauth2client.service_account import ServiceAccountCredentials\n",
    "\n",
    "CONTACT_DB_SHEET_NAME = 'Contact Database'\n",
    "PP_SHEET_NAME = 'Privacy Score Data'\n",
    "CREDENTIALS_FILE = 'koala-creds.json'\n",
    "MAX_DOMAIN_RANK = 1000\n",
    "\n",
    "scope = ['https://spreadsheets.google.com/feeds',\n",
    "     'https://www.googleapis.com/auth/drive']\n",
    "credentials = ServiceAccountCredentials.from_json_keyfile_name(CREDENTIALS_FILE, scope)\n",
    "gc = gspread.authorize(credentials)\n",
    "contacts_sheet = gc.open(CONTACT_DB_SHEET_NAME).sheet1\n",
    "pp_sheet = gc.open(PP_SHEET_NAME).sheet1\n",
    "contacts_list = contacts_sheet.get_all_records()\n",
    "pp_list = pp_sheet.get_all_records()\n"
   ]
  },
  {
   "cell_type": "code",
   "execution_count": 6,
   "metadata": {},
   "outputs": [],
   "source": [
    "combined_list = {row['Domain']:[row['Privacy Policy']] for row in contacts_list if len(row['Privacy Policy'])>0}"
   ]
  },
  {
   "cell_type": "code",
   "execution_count": 7,
   "metadata": {},
   "outputs": [
    {
     "data": {
      "text/plain": [
       "6207"
      ]
     },
     "execution_count": 7,
     "metadata": {},
     "output_type": "execute_result"
    }
   ],
   "source": [
    "len(combined_list)"
   ]
  },
  {
   "cell_type": "code",
   "execution_count": 15,
   "metadata": {},
   "outputs": [
    {
     "ename": "KeyError",
     "evalue": "'apcfss.in'",
     "output_type": "error",
     "traceback": [
      "\u001b[0;31m---------------------------------------------------------------------------\u001b[0m",
      "\u001b[0;31mKeyError\u001b[0m                                  Traceback (most recent call last)",
      "\u001b[0;32m<ipython-input-15-b6f060d0e301>\u001b[0m in \u001b[0;36m<module>\u001b[0;34m\u001b[0m\n\u001b[0;32m----> 1\u001b[0;31m \u001b[0mcombined_list\u001b[0m\u001b[0;34m[\u001b[0m\u001b[0;34m'apcfss.in'\u001b[0m\u001b[0;34m]\u001b[0m\u001b[0;34m\u001b[0m\u001b[0m\n\u001b[0m",
      "\u001b[0;31mKeyError\u001b[0m: 'apcfss.in'"
     ]
    }
   ],
   "source": [
    "combined_list['apcfss.in']"
   ]
  },
  {
   "cell_type": "code",
   "execution_count": 19,
   "metadata": {},
   "outputs": [],
   "source": [
    "for k,v in combined_list.items():\n",
    "    if len(v[0])==1:\n",
    "        print(k)"
   ]
  },
  {
   "cell_type": "code",
   "execution_count": 17,
   "metadata": {},
   "outputs": [
    {
     "data": {
      "text/plain": [
       "['https://about.agu.org/privacy-policy']"
      ]
     },
     "execution_count": 17,
     "metadata": {},
     "output_type": "execute_result"
    }
   ],
   "source": [
    "combined_list['agu.org']\n"
   ]
  },
  {
   "cell_type": "code",
   "execution_count": null,
   "metadata": {},
   "outputs": [],
   "source": [
    "for row in pp_list:\n",
    "    if "
   ]
  }
 ],
 "metadata": {
  "kernelspec": {
   "display_name": "Python 3",
   "language": "python",
   "name": "python3"
  },
  "language_info": {
   "codemirror_mode": {
    "name": "ipython",
    "version": 3
   },
   "file_extension": ".py",
   "mimetype": "text/x-python",
   "name": "python",
   "nbconvert_exporter": "python",
   "pygments_lexer": "ipython3",
   "version": "3.5.6"
  }
 },
 "nbformat": 4,
 "nbformat_minor": 4
}
